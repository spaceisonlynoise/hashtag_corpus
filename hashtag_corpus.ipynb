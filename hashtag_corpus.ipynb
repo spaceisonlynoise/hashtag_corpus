{
 "cells": [
  {
   "cell_type": "code",
   "execution_count": 54,
   "metadata": {},
   "outputs": [],
   "source": [
    "%store -r all_only_OJ_posts"
   ]
  },
  {
   "cell_type": "code",
   "execution_count": 55,
   "metadata": {},
   "outputs": [
    {
     "data": {
      "text/plain": [
       "2372"
      ]
     },
     "execution_count": 55,
     "metadata": {},
     "output_type": "execute_result"
    }
   ],
   "source": [
    "posts_with_hashtags = []\n",
    "for post in all_only_OJ_posts:\n",
    "    for word in post:\n",
    "        if word.startswith(\"#\"):\n",
    "            posts_with_hashtags.append(post)\n",
    "#len(posts_with_hashtags) #2907\n",
    "#len(all_only_OJ_posts) #8998\n",
    "posts_with_hashtags= set(posts_with_hashtags)\n",
    "len(posts_with_hashtags)#2372\n"
   ]
  },
  {
   "cell_type": "code",
   "execution_count": 56,
   "metadata": {},
   "outputs": [],
   "source": [
    "tupl_hash = []\n",
    "jhj_tupl = []\n",
    "for post in posts_with_hashtags:\n",
    "    if \"#jhj\" in post:\n",
    "        tupl_hash.append((post,0))\n",
    "        jhj_tupl.append((post,0))\n",
    "    elif \"#wudel\" in post:\n",
    "        tupl_hash.append((post,1))\n",
    "    elif \"#mimimi\" in post:\n",
    "        tupl_hash.append((post,1))\n",
    "    #elif \"#asozial\" in post:\n",
    "     #   print(post)\n",
    "      #  tupl_hash.append((post,1))\n",
    "    elif \"#dankemerkel\" in post:\n",
    "        tupl_hash.append((post,1))\n",
    "    #elif \"#ama\" in post:\n",
    "     #   tupl_hash.append((post,1))\n",
    "    elif \"#dankefürnichts\" in post:\n",
    "        tupl_hash.append((post,1))\n",
    "    elif \"#dbakel\" in post:\n",
    "        tupl_hash.append((post,1))\n",
    "    elif \"#DBakel\" in post:\n",
    "        tupl_hash.append((post,1))\n",
    "    elif \"#foreveralone\" in post:\n",
    "        tupl_hash.append((post,1))\n",
    "    elif \"#verzweifelt\" in post:\n",
    "        tupl_hash.append((post,1))\n",
    "    elif \"#genervt\" in post:\n",
    "        tupl_hash.append((post,1))\n",
    "    elif \"#spotted\" in post:\n",
    "        tupl_hash.append((post,1))\n",
    "   # elif \"#danke\" in post:\n",
    "    #    tupl_hash.append((post,1))\n",
    "   # elif \"#feedback\" in post:\n",
    "    #    tupl_hash.append((post,1))\n",
    "    elif \"#wtf\" in post:\n",
    "        tupl_hash.append((post,1))\n",
    "    elif \"#hate\" in post:\n",
    "        tupl_hash.append((post,1))\n",
    "    elif \"#traurig\" in post:\n",
    "        tupl_hash.append((post,1))\n",
    "    elif \"#lonely\" in post:\n",
    "        tupl_hash.append((post,1))\n",
    "    elif \"#Wudel\" in post:\n",
    "        tupl_hash.append((post,1))\n",
    "   # elif \"#love\" in post:\n",
    "    #    print(post)\n",
    "     #   tupl_hash.append((post,1))\n",
    "\n",
    "tupl_hash = set(tupl_hash)\n",
    "#232 non-emot; 164 emot\n",
    "\n",
    "#hash_texts\n",
    "\n",
    "#97 emot 232 non-emot"
   ]
  },
  {
   "cell_type": "code",
   "execution_count": 64,
   "metadata": {},
   "outputs": [],
   "source": [
    "#solve division by zero bug by removinh #'s here and check for empty strings\n",
    "post_without = []\n",
    "clean_tupl = []\n",
    "for tup in tupl_hash:\n",
    "    for word in tup[0].split(\" \"):\n",
    "        if not word.startswith(\"#\"):\n",
    "            post_without.append(word)\n",
    "    clean_tupl.append((\" \".join((\" \".join(post_without)).split()), tup[1]))\n",
    "    post_without = []\n",
    "for tup in clean_tupl:\n",
    "    if len(tup[0]) == 0:\n",
    "        clean_tupl.remove(tup)"
   ]
  },
  {
   "cell_type": "code",
   "execution_count": 65,
   "metadata": {},
   "outputs": [],
   "source": [
    "hash_texts = []\n",
    "hash_labels = []\n",
    "for post in clean_tupl:\n",
    "    hash_texts.append(post[0])\n",
    "    hash_labels.append(post[1])\n",
    "for text in hash_texts:\n",
    "    if len(text) == 0:\n",
    "        print(\"yes\")"
   ]
  },
  {
   "cell_type": "code",
   "execution_count": 66,
   "metadata": {},
   "outputs": [
    {
     "name": "stdout",
     "output_type": "stream",
     "text": [
      "Stored 'hash_texts' (list)\n",
      "Stored 'hash_labels' (list)\n",
      "Stored 'tupl_hash' (set)\n",
      "Stored 'jhj_tupl' (list)\n"
     ]
    }
   ],
   "source": [
    "#am schluss, wenn alles passt und sauber ist\n",
    "%store hash_texts\n",
    "%store hash_labels\n",
    "%store tupl_hash\n",
    "%store jhj_tupl"
   ]
  },
  {
   "cell_type": "code",
   "execution_count": null,
   "metadata": {},
   "outputs": [],
   "source": []
  }
 ],
 "metadata": {
  "kernelspec": {
   "display_name": "Python 3",
   "language": "python",
   "name": "python3"
  },
  "language_info": {
   "codemirror_mode": {
    "name": "ipython",
    "version": 3
   },
   "file_extension": ".py",
   "mimetype": "text/x-python",
   "name": "python",
   "nbconvert_exporter": "python",
   "pygments_lexer": "ipython3",
   "version": "3.7.7"
  }
 },
 "nbformat": 4,
 "nbformat_minor": 4
}
